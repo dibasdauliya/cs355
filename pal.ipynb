{
 "cells": [
  {
   "cell_type": "code",
   "execution_count": 2,
   "metadata": {},
   "outputs": [
    {
     "data": {
      "text/plain": [
       "False"
      ]
     },
     "execution_count": 2,
     "metadata": {},
     "output_type": "execute_result"
    }
   ],
   "source": [
    "def pal(str):\n",
    "    if(len(str) <= 1):\n",
    "        return True\n",
    "    \n",
    "    if str[0] != str[-1]:\n",
    "        return False\n",
    "    \n",
    "    substr = str[1:len(str)-1]\n",
    "    return pal(substr)\n",
    "\n",
    "# O(N^2)\n",
    "\n",
    "def p(str):\n",
    "    return palin(str, 0, len(str)-1)\n",
    "\n",
    "def palin(s, start, strop):\n",
    "    if start >= stop:\n",
    "        re try\n",
    "            if != s[stop]\n",
    "                return False\n",
    "\n",
    "pal(\"dfasd\")"
   ]
  }
 ],
 "metadata": {
  "kernelspec": {
   "display_name": "Python 3",
   "language": "python",
   "name": "python3"
  },
  "language_info": {
   "codemirror_mode": {
    "name": "ipython",
    "version": 3
   },
   "file_extension": ".py",
   "mimetype": "text/x-python",
   "name": "python",
   "nbconvert_exporter": "python",
   "pygments_lexer": "ipython3",
   "version": "3.11.1"
  }
 },
 "nbformat": 4,
 "nbformat_minor": 2
}
